{
 "cells": [
  {
   "cell_type": "markdown",
   "metadata": {},
   "source": [
    "# Guessing Game Challenge\n",
    "\n",
    "Let's use `while` loops to create a guessing game.\n",
    "\n",
    "The Challenge:\n",
    "\n",
    "Write a program that picks a random integer from 1 to 100, and has players guess the number. The rules are:\n",
    "\n",
    "1. If a player's guess is less than 1 or greater than 100, say \"OUT OF BOUNDS\"\n",
    "2. On a player's first turn, if their guess is\n",
    " * within 10 of the number, return \"WARM!\"\n",
    " * further than 10 away from the number, return \"COLD!\"\n",
    "3. On all subsequent turns, if a guess is \n",
    " * closer to the number than the previous guess return \"WARMER!\"\n",
    " * farther from the number than the previous guess, return \"COLDER!\"\n",
    "4. When the player's guess equals the number, tell them they've guessed correctly *and* how many guesses it took!\n",
    "\n",
    "You can try this from scratch, or follow the steps outlined below. A separate Solution notebook has been provided. Good luck!\n"
   ]
  },
  {
   "cell_type": "markdown",
   "metadata": {},
   "source": [
    "#### First, pick a random integer from 1 to 100 using the random module and assign it to a variable\n",
    "\n",
    "Note: `random.randint(a,b)` returns a random integer in range `[a, b]`, including both end points."
   ]
  },
  {
   "cell_type": "code",
   "execution_count": 41,
   "metadata": {},
   "outputs": [
    {
     "name": "stdout",
     "output_type": "stream",
     "text": [
      "22\n"
     ]
    }
   ],
   "source": [
    "import random\n",
    "num=random.randint(1,100)\n",
    "print(num)"
   ]
  },
  {
   "cell_type": "markdown",
   "metadata": {},
   "source": [
    "#### Next, print an introduction to the game and explain the rules"
   ]
  },
  {
   "cell_type": "code",
   "execution_count": 42,
   "metadata": {},
   "outputs": [
    {
     "name": "stdout",
     "output_type": "stream",
     "text": [
      "Welcome to the Guessing Game!\n",
      "Rules\n",
      "\n",
      "1. The computer will randomly choose a number between 1 and 100.\n",
      "2. Your goal is to guess the number in as few attempts as possible.\n",
      "3. After each guess:\n",
      "   - 'OUT OF BOUNDS'= your guess is out of range (less than 1 or greater than 100) .\n",
      "   - On your first guess:\n",
      "       'WARM!'= If your guess is within 10 of the number .\n",
      "       'COLD!'= If your guess is not within 10 of the number \n",
      "   - On subsequent guesses:\n",
      "       'WARMER!'= If your guess is closer to the target than your last guess.\n",
      "       'COLDER!'= If your guess is farther from the target than your last guess.\n",
      "4. When you guess the correct number, you'll be congratulated and told how many guesses it took!\n",
      "\n",
      "\n"
     ]
    }
   ],
   "source": [
    "print(\"Welcome to the Guessing Game!\")\n",
    "print(\"Rules\")\n",
    "print(\"\"\"\n",
    "1. The computer will randomly choose a number between 1 and 100.\n",
    "2. Your goal is to guess the number in as few attempts as possible.\n",
    "3. After each guess:\n",
    "   - 'OUT OF BOUNDS'= your guess is out of range (less than 1 or greater than 100) .\n",
    "   - On your first guess:\n",
    "       'WARM!'= If your guess is within 10 of the number .\n",
    "       'COLD!'= If your guess is not within 10 of the number \n",
    "   - On subsequent guesses:\n",
    "       'WARMER!'= If your guess is closer to the target than your last guess.\n",
    "       'COLDER!'= If your guess is farther from the target than your last guess.\n",
    "4. When you guess the correct number, you'll be congratulated and told how many guesses it took!\n",
    "\n",
    "\"\"\")"
   ]
  },
  {
   "cell_type": "markdown",
   "metadata": {},
   "source": [
    "#### Create a list to store guesses\n",
    "\n",
    "Hint: zero is a good placeholder value. It's useful because it evaluates to \"False\""
   ]
  },
  {
   "cell_type": "code",
   "execution_count": 43,
   "metadata": {},
   "outputs": [],
   "source": [
    "guesses=[]"
   ]
  },
  {
   "cell_type": "markdown",
   "metadata": {},
   "source": [
    "#### Write a `while` loop that asks for a valid guess. Test it a few times to make sure it works."
   ]
  },
  {
   "cell_type": "code",
   "execution_count": 44,
   "metadata": {},
   "outputs": [
    {
     "name": "stdout",
     "output_type": "stream",
     "text": [
      "Enter your guess 40\n"
     ]
    }
   ],
   "source": [
    "while True:\n",
    "    try:\n",
    "        guess = int(input(\"Enter your guess \"))\n",
    "        if 1 <= guess <= 100:\n",
    "            break\n",
    "        else:\n",
    "            print(\"OUT OF BOUNDS!\")\n",
    "    except ValueError:\n",
    "        print(\"Invalid input!\")\n"
   ]
  },
  {
   "cell_type": "markdown",
   "metadata": {},
   "source": [
    "#### Write a `while` loop that compares the player's guess to our number. If the player guesses correctly, break from the loop. Otherwise, tell the player if they're warmer or colder, and continue asking for guesses.\n",
    "\n",
    "Some hints:\n",
    "* it may help to sketch out all possible combinations on paper first!\n",
    "* you can use the `abs()` function to find the positive difference between two numbers\n",
    "* if you append all new guesses to the list, then the previous guess is given as `guesses[-2]`"
   ]
  },
  {
   "cell_type": "code",
   "execution_count": 45,
   "metadata": {},
   "outputs": [
    {
     "name": "stdout",
     "output_type": "stream",
     "text": [
      "Enter your guess 50\n",
      "COLD!\n",
      "Enter your guess 60\n",
      "COLDER!\n",
      "Enter your guess 70\n",
      "COLDER!\n",
      "Enter your guess 40\n",
      "WARMER!\n",
      "Enter your guess 30\n",
      "WARMER!\n",
      "Enter your guess 20\n",
      "WARMER!\n",
      "Enter your guess 10\n",
      "COLDER!\n",
      "Enter your guess 15\n",
      "WARMER!\n",
      "Enter your guess 17\n",
      "WARMER!\n",
      "Enter your guess 19\n",
      "WARMER!\n",
      "Enter your guess 18\n",
      "COLDER!\n",
      "Enter your guess 16\n",
      "COLDER!\n",
      "Enter your guess 25\n",
      "WARMER!\n",
      "Enter your guess 26\n",
      "COLDER!\n",
      "Enter your guess 22\n",
      "congratulations\n"
     ]
    }
   ],
   "source": [
    "x=0\n",
    "guess = int(input(\"Enter your guess \"))\n",
    "if abs(guess-num)<=10:print(\"WARM!\")\n",
    "else:print(\"COLD!\")\n",
    "guesses.insert(x,guess)\n",
    "x+=1\n",
    "while True:\n",
    "    try:\n",
    "        \n",
    "        guess = int(input(\"Enter your guess \"))\n",
    "        if 1 <= guess <= 100:\n",
    "            if guess==num:\n",
    "                print(\"congratulations\")\n",
    "                break\n",
    "            else:\n",
    "                if abs(guess-num)<abs(guesses[x-1]-num):print(\"WARMER!\")\n",
    "                else : print(\"COLDER!\")\n",
    "            guesses.insert(x,guess)\n",
    "            x+=1\n",
    "        else:\n",
    "            print(\"OUT OF BOUNDS!\")\n",
    "    except ValueError:\n",
    "        print(\"Invalid input!\")\n"
   ]
  },
  {
   "cell_type": "markdown",
   "metadata": {},
   "source": [
    "That's it! You've just programmed your first game!\n",
    "\n",
    "In the next section we'll learn how to turn some of these repetitive actions into *functions* that can be called whenever we need them."
   ]
  },
  {
   "cell_type": "markdown",
   "metadata": {},
   "source": [
    "### Good Job!"
   ]
  }
 ],
 "metadata": {
  "kernelspec": {
   "display_name": "Python 3 (ipykernel)",
   "language": "python",
   "name": "python3"
  },
  "language_info": {
   "codemirror_mode": {
    "name": "ipython",
    "version": 3
   },
   "file_extension": ".py",
   "mimetype": "text/x-python",
   "name": "python",
   "nbconvert_exporter": "python",
   "pygments_lexer": "ipython3",
   "version": "3.11.4"
  }
 },
 "nbformat": 4,
 "nbformat_minor": 2
}
